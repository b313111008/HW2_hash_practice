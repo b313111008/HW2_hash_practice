{
  "nbformat": 4,
  "nbformat_minor": 0,
  "metadata": {
    "colab": {
      "provenance": [],
      "authorship_tag": "ABX9TyNS8NJLXmiuQiJ4lGZoblaC",
      "include_colab_link": true
    },
    "kernelspec": {
      "name": "python3",
      "display_name": "Python 3"
    },
    "language_info": {
      "name": "python"
    }
  },
  "cells": [
    {
      "cell_type": "markdown",
      "metadata": {
        "id": "view-in-github",
        "colab_type": "text"
      },
      "source": [
        "<a href=\"https://colab.research.google.com/github/b313111008/HW2_hash_practice/blob/main/HW2_hash_practice.ipynb\" target=\"_parent\"><img src=\"https://colab.research.google.com/assets/colab-badge.svg\" alt=\"Open In Colab\"/></a>"
      ]
    },
    {
      "cell_type": "code",
      "source": [
        "import re\n",
        "\n",
        "with open('/content/hw2_data.txt','r')as meal:\n",
        "  food = meal.read()\n",
        "\n",
        "words=re.findall(r'\\b\\w+\\b',food)\n",
        "\n",
        "f={}\n",
        "for word in words:\n",
        "  if word in f:\n",
        "    f[word]+=1\n",
        "  else:\n",
        "    f[word]=1\n",
        "\n",
        "print(\"總共有%d個不重複的英文字\"%len(f))\n",
        "for word in sorted(f):\n",
        "  print(word, ':', f[word])\n",
        "meal.close()"
      ],
      "metadata": {
        "colab": {
          "base_uri": "https://localhost:8080/"
        },
        "id": "HxkgjDcAD-Lt",
        "outputId": "3e40105c-1ab5-4ccf-a475-2926100e40fb"
      },
      "execution_count": 13,
      "outputs": [
        {
          "output_type": "stream",
          "name": "stdout",
          "text": [
            "總共有10個不重複的英文字\n",
            "Burger : 196\n",
            "Cheese : 234\n",
            "Coke : 145\n",
            "Fries : 76\n",
            "Pho : 19\n",
            "Pizza : 83\n",
            "Potato : 3\n",
            "Rib : 33\n",
            "Steak : 46\n",
            "Taco : 57\n"
          ]
        }
      ]
    }
  ]
}